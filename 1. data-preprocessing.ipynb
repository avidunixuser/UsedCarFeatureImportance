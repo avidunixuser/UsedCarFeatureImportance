{
  "cells": [
    {
      "cell_type": "markdown",
      "metadata": {
        "id": "sAt8RyUldOfc"
      },
      "source": [
        "# Libraries"
      ]
    },
    {
      "cell_type": "code",
      "execution_count": 8,
      "metadata": {
        "id": "I5VYYzl4dOfm"
      },
      "outputs": [],
      "source": [
        "import pandas as pd\n",
        "import numpy as np\n",
        "import seaborn as sns\n",
        "import matplotlib.pyplot as plt\n",
        "%matplotlib inline\n",
        "\n",
        "from tqdm import tqdm\n",
        "from sklearn.experimental import enable_iterative_imputer\n",
        "from sklearn.impute import IterativeImputer\n",
        "from sklearn.ensemble import ExtraTreesRegressor\n",
        "from sklearn.linear_model import BayesianRidge\n",
        "from sklearn.tree import DecisionTreeRegressor\n",
        "from sklearn.neighbors import KNeighborsRegressor\n",
        "from sklearn.preprocessing import OrdinalEncoder\n",
        "from sklearn import preprocessing\n",
        "\n",
        "from sklearn.model_selection import cross_val_score\n",
        "from sklearn.impute import SimpleImputer\n",
        "from sklearn.pipeline import make_pipeline\n",
        "\n",
        "import warnings\n",
        "warnings.filterwarnings('ignore')"
      ]
    },
    {
      "cell_type": "code",
      "source": [
        "from google.colab import drive\n",
        "drive.mount('/content/drive')"
      ],
      "metadata": {
        "colab": {
          "base_uri": "https://localhost:8080/"
        },
        "id": "ia01U5oNdYii",
        "outputId": "258b91e3-a0cd-447c-a0ea-8d544cafcde4"
      },
      "execution_count": 9,
      "outputs": [
        {
          "output_type": "stream",
          "name": "stdout",
          "text": [
            "Drive already mounted at /content/drive; to attempt to forcibly remount, call drive.mount(\"/content/drive\", force_remount=True).\n"
          ]
        }
      ]
    },
    {
      "cell_type": "code",
      "execution_count": 10,
      "metadata": {
        "colab": {
          "base_uri": "https://localhost:8080/",
          "height": 206
        },
        "id": "FWQf1Df-dOfr",
        "outputId": "15fdbb69-d2ff-4216-c4a0-9f6542123022"
      },
      "outputs": [
        {
          "output_type": "execute_result",
          "data": {
            "text/plain": [
              "           id                  region  price  year manufacturer model  \\\n",
              "0  7222695916                prescott   6000   NaN          NaN   NaN   \n",
              "1  7218891961            fayetteville  11900   NaN          NaN   NaN   \n",
              "2  7221797935            florida keys  21000   NaN          NaN   NaN   \n",
              "3  7222270760  worcester / central MA   1500   NaN          NaN   NaN   \n",
              "4  7210384030              greensboro   4900   NaN          NaN   NaN   \n",
              "\n",
              "  condition cylinders fuel  odometer title_status transmission  VIN drive  \\\n",
              "0       NaN       NaN  NaN       NaN          NaN          NaN  NaN   NaN   \n",
              "1       NaN       NaN  NaN       NaN          NaN          NaN  NaN   NaN   \n",
              "2       NaN       NaN  NaN       NaN          NaN          NaN  NaN   NaN   \n",
              "3       NaN       NaN  NaN       NaN          NaN          NaN  NaN   NaN   \n",
              "4       NaN       NaN  NaN       NaN          NaN          NaN  NaN   NaN   \n",
              "\n",
              "  size type paint_color state  \n",
              "0  NaN  NaN         NaN    az  \n",
              "1  NaN  NaN         NaN    ar  \n",
              "2  NaN  NaN         NaN    fl  \n",
              "3  NaN  NaN         NaN    ma  \n",
              "4  NaN  NaN         NaN    nc  "
            ],
            "text/html": [
              "\n",
              "  <div id=\"df-a47d3033-ee07-45e4-ae10-64cd7fde39a6\">\n",
              "    <div class=\"colab-df-container\">\n",
              "      <div>\n",
              "<style scoped>\n",
              "    .dataframe tbody tr th:only-of-type {\n",
              "        vertical-align: middle;\n",
              "    }\n",
              "\n",
              "    .dataframe tbody tr th {\n",
              "        vertical-align: top;\n",
              "    }\n",
              "\n",
              "    .dataframe thead th {\n",
              "        text-align: right;\n",
              "    }\n",
              "</style>\n",
              "<table border=\"1\" class=\"dataframe\">\n",
              "  <thead>\n",
              "    <tr style=\"text-align: right;\">\n",
              "      <th></th>\n",
              "      <th>id</th>\n",
              "      <th>region</th>\n",
              "      <th>price</th>\n",
              "      <th>year</th>\n",
              "      <th>manufacturer</th>\n",
              "      <th>model</th>\n",
              "      <th>condition</th>\n",
              "      <th>cylinders</th>\n",
              "      <th>fuel</th>\n",
              "      <th>odometer</th>\n",
              "      <th>title_status</th>\n",
              "      <th>transmission</th>\n",
              "      <th>VIN</th>\n",
              "      <th>drive</th>\n",
              "      <th>size</th>\n",
              "      <th>type</th>\n",
              "      <th>paint_color</th>\n",
              "      <th>state</th>\n",
              "    </tr>\n",
              "  </thead>\n",
              "  <tbody>\n",
              "    <tr>\n",
              "      <th>0</th>\n",
              "      <td>7222695916</td>\n",
              "      <td>prescott</td>\n",
              "      <td>6000</td>\n",
              "      <td>NaN</td>\n",
              "      <td>NaN</td>\n",
              "      <td>NaN</td>\n",
              "      <td>NaN</td>\n",
              "      <td>NaN</td>\n",
              "      <td>NaN</td>\n",
              "      <td>NaN</td>\n",
              "      <td>NaN</td>\n",
              "      <td>NaN</td>\n",
              "      <td>NaN</td>\n",
              "      <td>NaN</td>\n",
              "      <td>NaN</td>\n",
              "      <td>NaN</td>\n",
              "      <td>NaN</td>\n",
              "      <td>az</td>\n",
              "    </tr>\n",
              "    <tr>\n",
              "      <th>1</th>\n",
              "      <td>7218891961</td>\n",
              "      <td>fayetteville</td>\n",
              "      <td>11900</td>\n",
              "      <td>NaN</td>\n",
              "      <td>NaN</td>\n",
              "      <td>NaN</td>\n",
              "      <td>NaN</td>\n",
              "      <td>NaN</td>\n",
              "      <td>NaN</td>\n",
              "      <td>NaN</td>\n",
              "      <td>NaN</td>\n",
              "      <td>NaN</td>\n",
              "      <td>NaN</td>\n",
              "      <td>NaN</td>\n",
              "      <td>NaN</td>\n",
              "      <td>NaN</td>\n",
              "      <td>NaN</td>\n",
              "      <td>ar</td>\n",
              "    </tr>\n",
              "    <tr>\n",
              "      <th>2</th>\n",
              "      <td>7221797935</td>\n",
              "      <td>florida keys</td>\n",
              "      <td>21000</td>\n",
              "      <td>NaN</td>\n",
              "      <td>NaN</td>\n",
              "      <td>NaN</td>\n",
              "      <td>NaN</td>\n",
              "      <td>NaN</td>\n",
              "      <td>NaN</td>\n",
              "      <td>NaN</td>\n",
              "      <td>NaN</td>\n",
              "      <td>NaN</td>\n",
              "      <td>NaN</td>\n",
              "      <td>NaN</td>\n",
              "      <td>NaN</td>\n",
              "      <td>NaN</td>\n",
              "      <td>NaN</td>\n",
              "      <td>fl</td>\n",
              "    </tr>\n",
              "    <tr>\n",
              "      <th>3</th>\n",
              "      <td>7222270760</td>\n",
              "      <td>worcester / central MA</td>\n",
              "      <td>1500</td>\n",
              "      <td>NaN</td>\n",
              "      <td>NaN</td>\n",
              "      <td>NaN</td>\n",
              "      <td>NaN</td>\n",
              "      <td>NaN</td>\n",
              "      <td>NaN</td>\n",
              "      <td>NaN</td>\n",
              "      <td>NaN</td>\n",
              "      <td>NaN</td>\n",
              "      <td>NaN</td>\n",
              "      <td>NaN</td>\n",
              "      <td>NaN</td>\n",
              "      <td>NaN</td>\n",
              "      <td>NaN</td>\n",
              "      <td>ma</td>\n",
              "    </tr>\n",
              "    <tr>\n",
              "      <th>4</th>\n",
              "      <td>7210384030</td>\n",
              "      <td>greensboro</td>\n",
              "      <td>4900</td>\n",
              "      <td>NaN</td>\n",
              "      <td>NaN</td>\n",
              "      <td>NaN</td>\n",
              "      <td>NaN</td>\n",
              "      <td>NaN</td>\n",
              "      <td>NaN</td>\n",
              "      <td>NaN</td>\n",
              "      <td>NaN</td>\n",
              "      <td>NaN</td>\n",
              "      <td>NaN</td>\n",
              "      <td>NaN</td>\n",
              "      <td>NaN</td>\n",
              "      <td>NaN</td>\n",
              "      <td>NaN</td>\n",
              "      <td>nc</td>\n",
              "    </tr>\n",
              "  </tbody>\n",
              "</table>\n",
              "</div>\n",
              "      <button class=\"colab-df-convert\" onclick=\"convertToInteractive('df-a47d3033-ee07-45e4-ae10-64cd7fde39a6')\"\n",
              "              title=\"Convert this dataframe to an interactive table.\"\n",
              "              style=\"display:none;\">\n",
              "        \n",
              "  <svg xmlns=\"http://www.w3.org/2000/svg\" height=\"24px\"viewBox=\"0 0 24 24\"\n",
              "       width=\"24px\">\n",
              "    <path d=\"M0 0h24v24H0V0z\" fill=\"none\"/>\n",
              "    <path d=\"M18.56 5.44l.94 2.06.94-2.06 2.06-.94-2.06-.94-.94-2.06-.94 2.06-2.06.94zm-11 1L8.5 8.5l.94-2.06 2.06-.94-2.06-.94L8.5 2.5l-.94 2.06-2.06.94zm10 10l.94 2.06.94-2.06 2.06-.94-2.06-.94-.94-2.06-.94 2.06-2.06.94z\"/><path d=\"M17.41 7.96l-1.37-1.37c-.4-.4-.92-.59-1.43-.59-.52 0-1.04.2-1.43.59L10.3 9.45l-7.72 7.72c-.78.78-.78 2.05 0 2.83L4 21.41c.39.39.9.59 1.41.59.51 0 1.02-.2 1.41-.59l7.78-7.78 2.81-2.81c.8-.78.8-2.07 0-2.86zM5.41 20L4 18.59l7.72-7.72 1.47 1.35L5.41 20z\"/>\n",
              "  </svg>\n",
              "      </button>\n",
              "      \n",
              "  <style>\n",
              "    .colab-df-container {\n",
              "      display:flex;\n",
              "      flex-wrap:wrap;\n",
              "      gap: 12px;\n",
              "    }\n",
              "\n",
              "    .colab-df-convert {\n",
              "      background-color: #E8F0FE;\n",
              "      border: none;\n",
              "      border-radius: 50%;\n",
              "      cursor: pointer;\n",
              "      display: none;\n",
              "      fill: #1967D2;\n",
              "      height: 32px;\n",
              "      padding: 0 0 0 0;\n",
              "      width: 32px;\n",
              "    }\n",
              "\n",
              "    .colab-df-convert:hover {\n",
              "      background-color: #E2EBFA;\n",
              "      box-shadow: 0px 1px 2px rgba(60, 64, 67, 0.3), 0px 1px 3px 1px rgba(60, 64, 67, 0.15);\n",
              "      fill: #174EA6;\n",
              "    }\n",
              "\n",
              "    [theme=dark] .colab-df-convert {\n",
              "      background-color: #3B4455;\n",
              "      fill: #D2E3FC;\n",
              "    }\n",
              "\n",
              "    [theme=dark] .colab-df-convert:hover {\n",
              "      background-color: #434B5C;\n",
              "      box-shadow: 0px 1px 3px 1px rgba(0, 0, 0, 0.15);\n",
              "      filter: drop-shadow(0px 1px 2px rgba(0, 0, 0, 0.3));\n",
              "      fill: #FFFFFF;\n",
              "    }\n",
              "  </style>\n",
              "\n",
              "      <script>\n",
              "        const buttonEl =\n",
              "          document.querySelector('#df-a47d3033-ee07-45e4-ae10-64cd7fde39a6 button.colab-df-convert');\n",
              "        buttonEl.style.display =\n",
              "          google.colab.kernel.accessAllowed ? 'block' : 'none';\n",
              "\n",
              "        async function convertToInteractive(key) {\n",
              "          const element = document.querySelector('#df-a47d3033-ee07-45e4-ae10-64cd7fde39a6');\n",
              "          const dataTable =\n",
              "            await google.colab.kernel.invokeFunction('convertToInteractive',\n",
              "                                                     [key], {});\n",
              "          if (!dataTable) return;\n",
              "\n",
              "          const docLinkHtml = 'Like what you see? Visit the ' +\n",
              "            '<a target=\"_blank\" href=https://colab.research.google.com/notebooks/data_table.ipynb>data table notebook</a>'\n",
              "            + ' to learn more about interactive tables.';\n",
              "          element.innerHTML = '';\n",
              "          dataTable['output_type'] = 'display_data';\n",
              "          await google.colab.output.renderOutput(dataTable, element);\n",
              "          const docLink = document.createElement('div');\n",
              "          docLink.innerHTML = docLinkHtml;\n",
              "          element.appendChild(docLink);\n",
              "        }\n",
              "      </script>\n",
              "    </div>\n",
              "  </div>\n",
              "  "
            ]
          },
          "metadata": {},
          "execution_count": 10
        }
      ],
      "source": [
        "\"\"\"Load DataFrame\"\"\"\n",
        "#df=pd.read_csv('vehicles.csv')\n",
        "df=pd.read_csv('/content/drive/MyDrive/Colab Notebooks/Application_II/practical_application_II_starter/data/bronze/vehicles_raw.csv')\n",
        "# df=pd.DataFrame(df)\n",
        "df.head()"
      ]
    },
    {
      "cell_type": "code",
      "execution_count": 11,
      "metadata": {
        "id": "WnwmQ892dOft"
      },
      "outputs": [],
      "source": [
        "# \"\"\"Reindexing DataFrame so that price feature will at last\"\"\"\n",
        "df= df.reindex(columns=['id', 'region', 'price', 'year', 'manufacturer',\n",
        "       'model', 'condition', 'cylinders', 'fuel', 'odometer', 'title_status',\n",
        "       'transmission', 'VIN', 'drive', 'size', 'type', 'paint_color',\n",
        "       'state'])"
      ]
    },
    {
      "cell_type": "markdown",
      "metadata": {
        "id": "GZnutrgBdOfv"
      },
      "source": [
        "# 1) Removed Irrelevant features"
      ]
    },
    {
      "cell_type": "code",
      "execution_count": 12,
      "metadata": {
        "colab": {
          "base_uri": "https://localhost:8080/",
          "height": 206
        },
        "id": "mDLKL8kjdOfw",
        "outputId": "4ee2813c-dc63-4a75-ba7c-1b8ce6b53907"
      },
      "outputs": [
        {
          "output_type": "execute_result",
          "data": {
            "text/plain": [
              "           id                  region  price  year manufacturer model  \\\n",
              "0  7222695916                prescott   6000   NaN          NaN   NaN   \n",
              "1  7218891961            fayetteville  11900   NaN          NaN   NaN   \n",
              "2  7221797935            florida keys  21000   NaN          NaN   NaN   \n",
              "3  7222270760  worcester / central MA   1500   NaN          NaN   NaN   \n",
              "4  7210384030              greensboro   4900   NaN          NaN   NaN   \n",
              "\n",
              "  condition cylinders fuel  odometer title_status transmission drive size  \\\n",
              "0       NaN       NaN  NaN       NaN          NaN          NaN   NaN  NaN   \n",
              "1       NaN       NaN  NaN       NaN          NaN          NaN   NaN  NaN   \n",
              "2       NaN       NaN  NaN       NaN          NaN          NaN   NaN  NaN   \n",
              "3       NaN       NaN  NaN       NaN          NaN          NaN   NaN  NaN   \n",
              "4       NaN       NaN  NaN       NaN          NaN          NaN   NaN  NaN   \n",
              "\n",
              "  type paint_color  \n",
              "0  NaN         NaN  \n",
              "1  NaN         NaN  \n",
              "2  NaN         NaN  \n",
              "3  NaN         NaN  \n",
              "4  NaN         NaN  "
            ],
            "text/html": [
              "\n",
              "  <div id=\"df-3bd7c8e7-551d-44c8-b003-03299ed0b576\">\n",
              "    <div class=\"colab-df-container\">\n",
              "      <div>\n",
              "<style scoped>\n",
              "    .dataframe tbody tr th:only-of-type {\n",
              "        vertical-align: middle;\n",
              "    }\n",
              "\n",
              "    .dataframe tbody tr th {\n",
              "        vertical-align: top;\n",
              "    }\n",
              "\n",
              "    .dataframe thead th {\n",
              "        text-align: right;\n",
              "    }\n",
              "</style>\n",
              "<table border=\"1\" class=\"dataframe\">\n",
              "  <thead>\n",
              "    <tr style=\"text-align: right;\">\n",
              "      <th></th>\n",
              "      <th>id</th>\n",
              "      <th>region</th>\n",
              "      <th>price</th>\n",
              "      <th>year</th>\n",
              "      <th>manufacturer</th>\n",
              "      <th>model</th>\n",
              "      <th>condition</th>\n",
              "      <th>cylinders</th>\n",
              "      <th>fuel</th>\n",
              "      <th>odometer</th>\n",
              "      <th>title_status</th>\n",
              "      <th>transmission</th>\n",
              "      <th>drive</th>\n",
              "      <th>size</th>\n",
              "      <th>type</th>\n",
              "      <th>paint_color</th>\n",
              "    </tr>\n",
              "  </thead>\n",
              "  <tbody>\n",
              "    <tr>\n",
              "      <th>0</th>\n",
              "      <td>7222695916</td>\n",
              "      <td>prescott</td>\n",
              "      <td>6000</td>\n",
              "      <td>NaN</td>\n",
              "      <td>NaN</td>\n",
              "      <td>NaN</td>\n",
              "      <td>NaN</td>\n",
              "      <td>NaN</td>\n",
              "      <td>NaN</td>\n",
              "      <td>NaN</td>\n",
              "      <td>NaN</td>\n",
              "      <td>NaN</td>\n",
              "      <td>NaN</td>\n",
              "      <td>NaN</td>\n",
              "      <td>NaN</td>\n",
              "      <td>NaN</td>\n",
              "    </tr>\n",
              "    <tr>\n",
              "      <th>1</th>\n",
              "      <td>7218891961</td>\n",
              "      <td>fayetteville</td>\n",
              "      <td>11900</td>\n",
              "      <td>NaN</td>\n",
              "      <td>NaN</td>\n",
              "      <td>NaN</td>\n",
              "      <td>NaN</td>\n",
              "      <td>NaN</td>\n",
              "      <td>NaN</td>\n",
              "      <td>NaN</td>\n",
              "      <td>NaN</td>\n",
              "      <td>NaN</td>\n",
              "      <td>NaN</td>\n",
              "      <td>NaN</td>\n",
              "      <td>NaN</td>\n",
              "      <td>NaN</td>\n",
              "    </tr>\n",
              "    <tr>\n",
              "      <th>2</th>\n",
              "      <td>7221797935</td>\n",
              "      <td>florida keys</td>\n",
              "      <td>21000</td>\n",
              "      <td>NaN</td>\n",
              "      <td>NaN</td>\n",
              "      <td>NaN</td>\n",
              "      <td>NaN</td>\n",
              "      <td>NaN</td>\n",
              "      <td>NaN</td>\n",
              "      <td>NaN</td>\n",
              "      <td>NaN</td>\n",
              "      <td>NaN</td>\n",
              "      <td>NaN</td>\n",
              "      <td>NaN</td>\n",
              "      <td>NaN</td>\n",
              "      <td>NaN</td>\n",
              "    </tr>\n",
              "    <tr>\n",
              "      <th>3</th>\n",
              "      <td>7222270760</td>\n",
              "      <td>worcester / central MA</td>\n",
              "      <td>1500</td>\n",
              "      <td>NaN</td>\n",
              "      <td>NaN</td>\n",
              "      <td>NaN</td>\n",
              "      <td>NaN</td>\n",
              "      <td>NaN</td>\n",
              "      <td>NaN</td>\n",
              "      <td>NaN</td>\n",
              "      <td>NaN</td>\n",
              "      <td>NaN</td>\n",
              "      <td>NaN</td>\n",
              "      <td>NaN</td>\n",
              "      <td>NaN</td>\n",
              "      <td>NaN</td>\n",
              "    </tr>\n",
              "    <tr>\n",
              "      <th>4</th>\n",
              "      <td>7210384030</td>\n",
              "      <td>greensboro</td>\n",
              "      <td>4900</td>\n",
              "      <td>NaN</td>\n",
              "      <td>NaN</td>\n",
              "      <td>NaN</td>\n",
              "      <td>NaN</td>\n",
              "      <td>NaN</td>\n",
              "      <td>NaN</td>\n",
              "      <td>NaN</td>\n",
              "      <td>NaN</td>\n",
              "      <td>NaN</td>\n",
              "      <td>NaN</td>\n",
              "      <td>NaN</td>\n",
              "      <td>NaN</td>\n",
              "      <td>NaN</td>\n",
              "    </tr>\n",
              "  </tbody>\n",
              "</table>\n",
              "</div>\n",
              "      <button class=\"colab-df-convert\" onclick=\"convertToInteractive('df-3bd7c8e7-551d-44c8-b003-03299ed0b576')\"\n",
              "              title=\"Convert this dataframe to an interactive table.\"\n",
              "              style=\"display:none;\">\n",
              "        \n",
              "  <svg xmlns=\"http://www.w3.org/2000/svg\" height=\"24px\"viewBox=\"0 0 24 24\"\n",
              "       width=\"24px\">\n",
              "    <path d=\"M0 0h24v24H0V0z\" fill=\"none\"/>\n",
              "    <path d=\"M18.56 5.44l.94 2.06.94-2.06 2.06-.94-2.06-.94-.94-2.06-.94 2.06-2.06.94zm-11 1L8.5 8.5l.94-2.06 2.06-.94-2.06-.94L8.5 2.5l-.94 2.06-2.06.94zm10 10l.94 2.06.94-2.06 2.06-.94-2.06-.94-.94-2.06-.94 2.06-2.06.94z\"/><path d=\"M17.41 7.96l-1.37-1.37c-.4-.4-.92-.59-1.43-.59-.52 0-1.04.2-1.43.59L10.3 9.45l-7.72 7.72c-.78.78-.78 2.05 0 2.83L4 21.41c.39.39.9.59 1.41.59.51 0 1.02-.2 1.41-.59l7.78-7.78 2.81-2.81c.8-.78.8-2.07 0-2.86zM5.41 20L4 18.59l7.72-7.72 1.47 1.35L5.41 20z\"/>\n",
              "  </svg>\n",
              "      </button>\n",
              "      \n",
              "  <style>\n",
              "    .colab-df-container {\n",
              "      display:flex;\n",
              "      flex-wrap:wrap;\n",
              "      gap: 12px;\n",
              "    }\n",
              "\n",
              "    .colab-df-convert {\n",
              "      background-color: #E8F0FE;\n",
              "      border: none;\n",
              "      border-radius: 50%;\n",
              "      cursor: pointer;\n",
              "      display: none;\n",
              "      fill: #1967D2;\n",
              "      height: 32px;\n",
              "      padding: 0 0 0 0;\n",
              "      width: 32px;\n",
              "    }\n",
              "\n",
              "    .colab-df-convert:hover {\n",
              "      background-color: #E2EBFA;\n",
              "      box-shadow: 0px 1px 2px rgba(60, 64, 67, 0.3), 0px 1px 3px 1px rgba(60, 64, 67, 0.15);\n",
              "      fill: #174EA6;\n",
              "    }\n",
              "\n",
              "    [theme=dark] .colab-df-convert {\n",
              "      background-color: #3B4455;\n",
              "      fill: #D2E3FC;\n",
              "    }\n",
              "\n",
              "    [theme=dark] .colab-df-convert:hover {\n",
              "      background-color: #434B5C;\n",
              "      box-shadow: 0px 1px 3px 1px rgba(0, 0, 0, 0.15);\n",
              "      filter: drop-shadow(0px 1px 2px rgba(0, 0, 0, 0.3));\n",
              "      fill: #FFFFFF;\n",
              "    }\n",
              "  </style>\n",
              "\n",
              "      <script>\n",
              "        const buttonEl =\n",
              "          document.querySelector('#df-3bd7c8e7-551d-44c8-b003-03299ed0b576 button.colab-df-convert');\n",
              "        buttonEl.style.display =\n",
              "          google.colab.kernel.accessAllowed ? 'block' : 'none';\n",
              "\n",
              "        async function convertToInteractive(key) {\n",
              "          const element = document.querySelector('#df-3bd7c8e7-551d-44c8-b003-03299ed0b576');\n",
              "          const dataTable =\n",
              "            await google.colab.kernel.invokeFunction('convertToInteractive',\n",
              "                                                     [key], {});\n",
              "          if (!dataTable) return;\n",
              "\n",
              "          const docLinkHtml = 'Like what you see? Visit the ' +\n",
              "            '<a target=\"_blank\" href=https://colab.research.google.com/notebooks/data_table.ipynb>data table notebook</a>'\n",
              "            + ' to learn more about interactive tables.';\n",
              "          element.innerHTML = '';\n",
              "          dataTable['output_type'] = 'display_data';\n",
              "          await google.colab.output.renderOutput(dataTable, element);\n",
              "          const docLink = document.createElement('div');\n",
              "          docLink.innerHTML = docLinkHtml;\n",
              "          element.appendChild(docLink);\n",
              "        }\n",
              "      </script>\n",
              "    </div>\n",
              "  </div>\n",
              "  "
            ]
          },
          "metadata": {},
          "execution_count": 12
        }
      ],
      "source": [
        "df2=df.copy()\n",
        "df2=df2.drop(columns=['VIN','state'])\n",
        "df2.head()"
      ]
    },
    {
      "cell_type": "markdown",
      "metadata": {
        "id": "lqy0cYXtdOfy"
      },
      "source": [
        "# 2) Dealing with missing values"
      ]
    },
    {
      "cell_type": "code",
      "execution_count": 13,
      "metadata": {
        "colab": {
          "base_uri": "https://localhost:8080/"
        },
        "id": "H5cT7yy6dOfz",
        "outputId": "e887cd01-7a81-4b13-adf3-74394d274c40"
      },
      "outputs": [
        {
          "output_type": "execute_result",
          "data": {
            "text/plain": [
              "id                   0\n",
              "region               0\n",
              "price                0\n",
              "year              1205\n",
              "manufacturer     17646\n",
              "model             5277\n",
              "condition       174104\n",
              "cylinders       177678\n",
              "fuel              3013\n",
              "odometer          4400\n",
              "title_status      8242\n",
              "transmission      2556\n",
              "drive           130567\n",
              "size            306361\n",
              "type             92858\n",
              "paint_color     130203\n",
              "dtype: int64"
            ]
          },
          "metadata": {},
          "execution_count": 13
        }
      ],
      "source": [
        "df2.isnull().sum() #return series of columns with respective of number of null values"
      ]
    },
    {
      "cell_type": "code",
      "execution_count": 14,
      "metadata": {
        "colab": {
          "base_uri": "https://localhost:8080/",
          "height": 344
        },
        "id": "dsurE2KvdOf0",
        "outputId": "08bb20fa-7174-46c4-ff76-a47b774094d4"
      },
      "outputs": [
        {
          "output_type": "execute_result",
          "data": {
            "text/plain": [
              "<matplotlib.axes._subplots.AxesSubplot at 0x7f0d3d5e5990>"
            ]
          },
          "metadata": {},
          "execution_count": 14
        },
        {
          "output_type": "display_data",
          "data": {
            "text/plain": [
              "<Figure size 432x288 with 2 Axes>"
            ],
            "image/png": "[encoded data removed]"
          },
          "metadata": {
            "needs_background": "light"
          }
        }
      ],
      "source": [
        "#heatmap to identify nulll values using graph\n",
        "sns.heatmap(df2.isnull(),yticklabels=False,cbar=True,cmap='Accent')"
      ]
    },
    {
      "cell_type": "code",
      "execution_count": 15,
      "metadata": {
        "id": "Sqv_QopUdOf1"
      },
      "outputs": [],
      "source": [
        "#define numeric variable and categorical variable to work separatly on them\n",
        "num_col=['year','odometer']\n",
        "cat_cols=['region','manufacturer','model','condition','cylinders','fuel','title_status','transmission','drive','size','type','paint_color']"
      ]
    },
    {
      "cell_type": "markdown",
      "metadata": {
        "id": "fwM6wb0ldOf3"
      },
      "source": [
        "# 2.1) Estimating better iterative imputer method"
      ]
    },
    {
      "cell_type": "code",
      "execution_count": 16,
      "metadata": {
        "colab": {
          "base_uri": "https://localhost:8080/"
        },
        "id": "IWF8AGSNdOf3",
        "outputId": "c68dd0c9-d1ca-4094-aabc-c04b4f4836ef"
      },
      "outputs": [
        {
          "output_type": "stream",
          "name": "stderr",
          "text": [
            "100%|██████████| 12/12 [00:01<00:00,  6.49it/s]\n"
          ]
        }
      ],
      "source": [
        "check_imputer=df2.copy()\n",
        "check_imputer=check_imputer.drop(columns=['id'])\n",
        "\n",
        "#object of LabelEncoder\n",
        "encoder=preprocessing.LabelEncoder()\n",
        "\n",
        "#function to label the categorical columns ignoring null values \n",
        "def encode(data):\n",
        "    #retains only non-null values\n",
        "    nonulls = np.array(data.dropna())\n",
        "    #reshapes the data for encoding\n",
        "    impute_reshape = nonulls.reshape(-1,1)\n",
        "    #encode date\n",
        "    impute_ordinal = encoder.fit_transform(impute_reshape)\n",
        "    #Assign back encoded values to non-null values\n",
        "    data.loc[data.notnull()] = np.squeeze(impute_ordinal)\n",
        "    return data\n",
        "\n",
        "#loop to label each column or categorical values into numberic\n",
        "for i in tqdm(range(len(cat_cols))):\n",
        "    encode(check_imputer[cat_cols[i]])"
      ]
    },
    {
      "cell_type": "code",
      "execution_count": 17,
      "metadata": {
        "colab": {
          "base_uri": "https://localhost:8080/",
          "height": 206
        },
        "id": "XDUepsa9dOf4",
        "outputId": "98ff7c29-350f-4760-a5df-d25d94d63807"
      },
      "outputs": [
        {
          "output_type": "execute_result",
          "data": {
            "text/plain": [
              "  region  price  year manufacturer model condition cylinders fuel  odometer  \\\n",
              "0    277   6000   NaN          NaN   NaN       NaN       NaN  NaN       NaN   \n",
              "1    105  11900   NaN          NaN   NaN       NaN       NaN  NaN       NaN   \n",
              "2    111  21000   NaN          NaN   NaN       NaN       NaN  NaN       NaN   \n",
              "3    396   1500   NaN          NaN   NaN       NaN       NaN  NaN       NaN   \n",
              "4    131   4900   NaN          NaN   NaN       NaN       NaN  NaN       NaN   \n",
              "\n",
              "  title_status transmission drive size type paint_color  \n",
              "0          NaN          NaN   NaN  NaN  NaN         NaN  \n",
              "1          NaN          NaN   NaN  NaN  NaN         NaN  \n",
              "2          NaN          NaN   NaN  NaN  NaN         NaN  \n",
              "3          NaN          NaN   NaN  NaN  NaN         NaN  \n",
              "4          NaN          NaN   NaN  NaN  NaN         NaN  "
            ],
            "text/html": [
              "\n",
              "  <div id=\"df-d355e24a-13bf-4434-b0eb-93757d88d4f0\">\n",
              "    <div class=\"colab-df-container\">\n",
              "      <div>\n",
              "<style scoped>\n",
              "    .dataframe tbody tr th:only-of-type {\n",
              "        vertical-align: middle;\n",
              "    }\n",
              "\n",
              "    .dataframe tbody tr th {\n",
              "        vertical-align: top;\n",
              "    }\n",
              "\n",
              "    .dataframe thead th {\n",
              "        text-align: right;\n",
              "    }\n",
              "</style>\n",
              "<table border=\"1\" class=\"dataframe\">\n",
              "  <thead>\n",
              "    <tr style=\"text-align: right;\">\n",
              "      <th></th>\n",
              "      <th>region</th>\n",
              "      <th>price</th>\n",
              "      <th>year</th>\n",
              "      <th>manufacturer</th>\n",
              "      <th>model</th>\n",
              "      <th>condition</th>\n",
              "      <th>cylinders</th>\n",
              "      <th>fuel</th>\n",
              "      <th>odometer</th>\n",
              "      <th>title_status</th>\n",
              "      <th>transmission</th>\n",
              "      <th>drive</th>\n",
              "      <th>size</th>\n",
              "      <th>type</th>\n",
              "      <th>paint_color</th>\n",
              "    </tr>\n",
              "  </thead>\n",
              "  <tbody>\n",
              "    <tr>\n",
              "      <th>0</th>\n",
              "      <td>277</td>\n",
              "      <td>6000</td>\n",
              "      <td>NaN</td>\n",
              "      <td>NaN</td>\n",
              "      <td>NaN</td>\n",
              "      <td>NaN</td>\n",
              "      <td>NaN</td>\n",
              "      <td>NaN</td>\n",
              "      <td>NaN</td>\n",
              "      <td>NaN</td>\n",
              "      <td>NaN</td>\n",
              "      <td>NaN</td>\n",
              "      <td>NaN</td>\n",
              "      <td>NaN</td>\n",
              "      <td>NaN</td>\n",
              "    </tr>\n",
              "    <tr>\n",
              "      <th>1</th>\n",
              "      <td>105</td>\n",
              "      <td>11900</td>\n",
              "      <td>NaN</td>\n",
              "      <td>NaN</td>\n",
              "      <td>NaN</td>\n",
              "      <td>NaN</td>\n",
              "      <td>NaN</td>\n",
              "      <td>NaN</td>\n",
              "      <td>NaN</td>\n",
              "      <td>NaN</td>\n",
              "      <td>NaN</td>\n",
              "      <td>NaN</td>\n",
              "      <td>NaN</td>\n",
              "      <td>NaN</td>\n",
              "      <td>NaN</td>\n",
              "    </tr>\n",
              "    <tr>\n",
              "      <th>2</th>\n",
              "      <td>111</td>\n",
              "      <td>21000</td>\n",
              "      <td>NaN</td>\n",
              "      <td>NaN</td>\n",
              "      <td>NaN</td>\n",
              "      <td>NaN</td>\n",
              "      <td>NaN</td>\n",
              "      <td>NaN</td>\n",
              "      <td>NaN</td>\n",
              "      <td>NaN</td>\n",
              "      <td>NaN</td>\n",
              "      <td>NaN</td>\n",
              "      <td>NaN</td>\n",
              "      <td>NaN</td>\n",
              "      <td>NaN</td>\n",
              "    </tr>\n",
              "    <tr>\n",
              "      <th>3</th>\n",
              "      <td>396</td>\n",
              "      <td>1500</td>\n",
              "      <td>NaN</td>\n",
              "      <td>NaN</td>\n",
              "      <td>NaN</td>\n",
              "      <td>NaN</td>\n",
              "      <td>NaN</td>\n",
              "      <td>NaN</td>\n",
              "      <td>NaN</td>\n",
              "      <td>NaN</td>\n",
              "      <td>NaN</td>\n",
              "      <td>NaN</td>\n",
              "      <td>NaN</td>\n",
              "      <td>NaN</td>\n",
              "      <td>NaN</td>\n",
              "    </tr>\n",
              "    <tr>\n",
              "      <th>4</th>\n",
              "      <td>131</td>\n",
              "      <td>4900</td>\n",
              "      <td>NaN</td>\n",
              "      <td>NaN</td>\n",
              "      <td>NaN</td>\n",
              "      <td>NaN</td>\n",
              "      <td>NaN</td>\n",
              "      <td>NaN</td>\n",
              "      <td>NaN</td>\n",
              "      <td>NaN</td>\n",
              "      <td>NaN</td>\n",
              "      <td>NaN</td>\n",
              "      <td>NaN</td>\n",
              "      <td>NaN</td>\n",
              "      <td>NaN</td>\n",
              "    </tr>\n",
              "  </tbody>\n",
              "</table>\n",
              "</div>\n",
              "      <button class=\"colab-df-convert\" onclick=\"convertToInteractive('df-d355e24a-13bf-4434-b0eb-93757d88d4f0')\"\n",
              "              title=\"Convert this dataframe to an interactive table.\"\n",
              "              style=\"display:none;\">\n",
              "        \n",
              "  <svg xmlns=\"http://www.w3.org/2000/svg\" height=\"24px\"viewBox=\"0 0 24 24\"\n",
              "       width=\"24px\">\n",
              "    <path d=\"M0 0h24v24H0V0z\" fill=\"none\"/>\n",
              "    <path d=\"M18.56 5.44l.94 2.06.94-2.06 2.06-.94-2.06-.94-.94-2.06-.94 2.06-2.06.94zm-11 1L8.5 8.5l.94-2.06 2.06-.94-2.06-.94L8.5 2.5l-.94 2.06-2.06.94zm10 10l.94 2.06.94-2.06 2.06-.94-2.06-.94-.94-2.06-.94 2.06-2.06.94z\"/><path d=\"M17.41 7.96l-1.37-1.37c-.4-.4-.92-.59-1.43-.59-.52 0-1.04.2-1.43.59L10.3 9.45l-7.72 7.72c-.78.78-.78 2.05 0 2.83L4 21.41c.39.39.9.59 1.41.59.51 0 1.02-.2 1.41-.59l7.78-7.78 2.81-2.81c.8-.78.8-2.07 0-2.86zM5.41 20L4 18.59l7.72-7.72 1.47 1.35L5.41 20z\"/>\n",
              "  </svg>\n",
              "      </button>\n",
              "      \n",
              "  <style>\n",
              "    .colab-df-container {\n",
              "      display:flex;\n",
              "      flex-wrap:wrap;\n",
              "      gap: 12px;\n",
              "    }\n",
              "\n",
              "    .colab-df-convert {\n",
              "      background-color: #E8F0FE;\n",
              "      border: none;\n",
              "      border-radius: 50%;\n",
              "      cursor: pointer;\n",
              "      display: none;\n",
              "      fill: #1967D2;\n",
              "      height: 32px;\n",
              "      padding: 0 0 0 0;\n",
              "      width: 32px;\n",
              "    }\n",
              "\n",
              "    .colab-df-convert:hover {\n",
              "      background-color: #E2EBFA;\n",
              "      box-shadow: 0px 1px 2px rgba(60, 64, 67, 0.3), 0px 1px 3px 1px rgba(60, 64, 67, 0.15);\n",
              "      fill: #174EA6;\n",
              "    }\n",
              "\n",
              "    [theme=dark] .colab-df-convert {\n",
              "      background-color: #3B4455;\n",
              "      fill: #D2E3FC;\n",
              "    }\n",
              "\n",
              "    [theme=dark] .colab-df-convert:hover {\n",
              "      background-color: #434B5C;\n",
              "      box-shadow: 0px 1px 3px 1px rgba(0, 0, 0, 0.15);\n",
              "      filter: drop-shadow(0px 1px 2px rgba(0, 0, 0, 0.3));\n",
              "      fill: #FFFFFF;\n",
              "    }\n",
              "  </style>\n",
              "\n",
              "      <script>\n",
              "        const buttonEl =\n",
              "          document.querySelector('#df-d355e24a-13bf-4434-b0eb-93757d88d4f0 button.colab-df-convert');\n",
              "        buttonEl.style.display =\n",
              "          google.colab.kernel.accessAllowed ? 'block' : 'none';\n",
              "\n",
              "        async function convertToInteractive(key) {\n",
              "          const element = document.querySelector('#df-d355e24a-13bf-4434-b0eb-93757d88d4f0');\n",
              "          const dataTable =\n",
              "            await google.colab.kernel.invokeFunction('convertToInteractive',\n",
              "                                                     [key], {});\n",
              "          if (!dataTable) return;\n",
              "\n",
              "          const docLinkHtml = 'Like what you see? Visit the ' +\n",
              "            '<a target=\"_blank\" href=https://colab.research.google.com/notebooks/data_table.ipynb>data table notebook</a>'\n",
              "            + ' to learn more about interactive tables.';\n",
              "          element.innerHTML = '';\n",
              "          dataTable['output_type'] = 'display_data';\n",
              "          await google.colab.output.renderOutput(dataTable, element);\n",
              "          const docLink = document.createElement('div');\n",
              "          docLink.innerHTML = docLinkHtml;\n",
              "          element.appendChild(docLink);\n",
              "        }\n",
              "      </script>\n",
              "    </div>\n",
              "  </div>\n",
              "  "
            ]
          },
          "metadata": {},
          "execution_count": 17
        }
      ],
      "source": [
        "check_imputer.head()"
      ]
    },
    {
      "cell_type": "code",
      "execution_count": 18,
      "metadata": {
        "colab": {
          "base_uri": "https://localhost:8080/",
          "height": 52
        },
        "id": "OcOo1AlbdOf5",
        "outputId": "651d781a-7a15-4e2b-816f-ceb27758d5a5"
      },
      "outputs": [
        {
          "output_type": "execute_result",
          "data": {
            "text/plain": [
              "'metrics which measure the distance between the model\\nand the data, like metrics. mean_squared_error ,\\nare available as neg_mean_squared_error\\nwhich return the negated value of the metric.'"
            ],
            "application/vnd.google.colaboratory.intrinsic+json": {
              "type": "string"
            }
          },
          "metadata": {},
          "execution_count": 18
        }
      ],
      "source": [
        "\"\"\"metrics which measure the distance between the model\n",
        "and the data, like metrics. mean_squared_error ,\n",
        "are available as neg_mean_squared_error\n",
        "which return the negated value of the metric.\"\"\"\n"
      ]
    },
    {
      "cell_type": "code",
      "execution_count": 19,
      "metadata": {
        "id": "SwCLBKW5dOf7"
      },
      "outputs": [],
      "source": [
        "# Estimate the score on the entire dataset by filling missing values by mean and median\n",
        "\n",
        "br_estimator = BayesianRidge() #base estimator\n",
        "N_SPLITS = 6  #defining the cross-validation splitting strategy\n",
        "\n",
        "score_simple_imputer = pd.DataFrame() #dataframe to store error of imputer\n",
        "#computing MSE for mean and median\n",
        "for strategy in ('mean', 'median'):\n",
        "    X=check_imputer.iloc[:,:-1]\n",
        "        #y=check_imputer.iloc[:,-1:].values.ravel()\n",
        "    y = np.ravel(check_imputer.iloc[:,-1:])\n",
        "    estimator = make_pipeline(\n",
        "        SimpleImputer(missing_values=np.nan, strategy=strategy),\n",
        "        br_estimator\n",
        "    )\n",
        "    score_simple_imputer[strategy] = cross_val_score(\n",
        "        estimator, X, y, scoring='neg_mean_squared_error',\n",
        "        cv=N_SPLITS\n",
        "    )"
      ]
    },
    {
      "cell_type": "code",
      "execution_count": 20,
      "metadata": {
        "code_folding": [],
        "colab": {
          "base_uri": "https://localhost:8080/"
        },
        "id": "w96aD255dOf8",
        "outputId": "f82deb52-5203-4aad-d455-a3d33a2fdcaf"
      },
      "outputs": [
        {
          "output_type": "stream",
          "name": "stdout",
          "text": [
            "Estimating BayesianRidge\n",
            "Estimating DecisionTreeRegressor\n",
            "Estimating ExtraTreesRegressor\n",
            "Estimating KNeighborsRegressor\n"
          ]
        }
      ],
      "source": [
        "# Estimate the score on the entire dataset by filling missing values by 4 different iterative imputer\n",
        "\n",
        "\n",
        "#estimators for IterativeImputer\n",
        "estimators = [\n",
        "    BayesianRidge(),\n",
        "    DecisionTreeRegressor(max_features='sqrt', random_state=0),\n",
        "    ExtraTreesRegressor(n_estimators=10, random_state=0),\n",
        "    KNeighborsRegressor(n_neighbors=15)\n",
        "]\n",
        "score_iterative_imputer = pd.DataFrame()\n",
        "for esti in estimators:\n",
        "        print(\"Estimating\",esti.__class__.__name__)\n",
        "        imputer = IterativeImputer(esti)\n",
        "        df_new=check_imputer.copy()\n",
        "        for col in check_imputer.columns:\n",
        "            #col=check_imputer.columns[i]\n",
        "            impute_data=imputer.fit_transform(df_new[col].values.reshape(-1,1))\n",
        "            impute_data=impute_data.astype('int64')\n",
        "            impute_data = pd.DataFrame(np.ravel(impute_data))\n",
        "            df_new[col]=impute_data\n",
        "        X=df_new.iloc[:,:-1]\n",
        "        #y=check_imputer.iloc[:,-1:].values.ravel()\n",
        "        y = np.ravel(df_new.iloc[:,-1:])\n",
        "        score_iterative_imputer[esti.__class__.__name__] = cross_val_score(esti,X,y,scoring='neg_mean_squared_error',cv=6)"
      ]
    },
    {
      "cell_type": "code",
      "execution_count": 21,
      "metadata": {
        "colab": {
          "base_uri": "https://localhost:8080/",
          "height": 443
        },
        "id": "yBopxQ-BdOf9",
        "outputId": "4b63c713-9bae-4e97-a9ce-5e0b48cb9f67"
      },
      "outputs": [
        {
          "output_type": "display_data",
          "data": {
            "text/plain": [
              "<Figure size 864x432 with 1 Axes>"
            ],
            "image/png": "[encoded data removed]"
          },
          "metadata": {
            "needs_background": "light"
          }
        }
      ],
      "source": [
        "#ploting the graphs of scores each method\n",
        "scores = pd.concat(\n",
        "    [score_simple_imputer, score_iterative_imputer],\n",
        "    keys=['SimpleImputer', 'IterativeImputer'], axis=1\n",
        ")\n",
        "fig, ax = plt.subplots(figsize=(12, 6))\n",
        "means = -scores.mean()\n",
        "errors = scores.std()\n",
        "means.plot.barh(xerr=errors, ax=ax)\n",
        "ax.set_title('MSE with Different Imputation Methods')\n",
        "ax.set_xlabel('MSE (smaller value is better)')\n",
        "ax.set_yticks(np.arange(means.shape[0]))\n",
        "ax.set_yticklabels(means.index.tolist())\n",
        "plt.tight_layout(pad=1)\n",
        "plt.savefig('/content/drive/MyDrive/Colab Notebooks/Application_II/practical_application_II_starter/images/different-imputations-method',dpi=None)\n",
        "plt.show()"
      ]
    },
    {
      "cell_type": "markdown",
      "metadata": {
        "id": "tAk6U5k9dOf_"
      },
      "source": [
        "## 2.2) Filling Numerical Missing Values i.e year & odometer"
      ]
    },
    {
      "cell_type": "code",
      "execution_count": 22,
      "metadata": {
        "colab": {
          "base_uri": "https://localhost:8080/"
        },
        "id": "psW2pp7TdOf_",
        "outputId": "2ee57330-0bda-4bdd-dce8-7adea8b22f3b"
      },
      "outputs": [
        {
          "output_type": "execute_result",
          "data": {
            "text/plain": [
              "year        1205\n",
              "odometer    4400\n",
              "dtype: int64"
            ]
          },
          "metadata": {},
          "execution_count": 22
        }
      ],
      "source": [
        "df2.isnull().sum()[num_col]"
      ]
    },
    {
      "cell_type": "code",
      "execution_count": 23,
      "metadata": {
        "id": "imjcOpaxdOgA"
      },
      "outputs": [],
      "source": [
        "data_num=df2[num_col]\n",
        "imputer_num=IterativeImputer(estimators[2]) #estimators[2] = ExtraTreesRegressor\n",
        "impute_data=imputer_num.fit_transform(data_num)\n",
        "df2[num_col]=impute_data"
      ]
    },
    {
      "cell_type": "code",
      "execution_count": 24,
      "metadata": {
        "colab": {
          "base_uri": "https://localhost:8080/"
        },
        "id": "wdGatcH5dOgB",
        "outputId": "e83d2044-b069-4203-a372-28bd18dd272c"
      },
      "outputs": [
        {
          "output_type": "execute_result",
          "data": {
            "text/plain": [
              "year        0\n",
              "odometer    0\n",
              "dtype: int64"
            ]
          },
          "metadata": {},
          "execution_count": 24
        }
      ],
      "source": [
        "#Missing values after filling\n",
        "df2.isnull().sum()[num_col]"
      ]
    },
    {
      "cell_type": "markdown",
      "metadata": {
        "id": "o0an_E7CdOgC"
      },
      "source": [
        "## 2.4) Filling Categorical values"
      ]
    },
    {
      "cell_type": "code",
      "execution_count": 25,
      "metadata": {
        "colab": {
          "base_uri": "https://localhost:8080/"
        },
        "id": "L4fF9JOfdOgD",
        "outputId": "38901ed5-a303-4413-eaef-62420f34c8ae"
      },
      "outputs": [
        {
          "output_type": "execute_result",
          "data": {
            "text/plain": [
              "region               0\n",
              "manufacturer     17646\n",
              "model             5277\n",
              "condition       174104\n",
              "cylinders       177678\n",
              "fuel              3013\n",
              "title_status      8242\n",
              "transmission      2556\n",
              "drive           130567\n",
              "size            306361\n",
              "type             92858\n",
              "paint_color     130203\n",
              "dtype: int64"
            ]
          },
          "metadata": {},
          "execution_count": 25
        }
      ],
      "source": [
        "#Missing values before filling\n",
        "df2.isnull().sum()[cat_cols]"
      ]
    },
    {
      "cell_type": "code",
      "execution_count": 26,
      "metadata": {
        "scrolled": false,
        "id": "-duD1531dOgE"
      },
      "outputs": [],
      "source": [
        "data_cat=df2[cat_cols]\n",
        "encoder=preprocessing.LabelEncoder()\n",
        "\n",
        "#create a for loop to iterate through each column in the data\n",
        "for columns in cat_cols:\n",
        "    encode(data_cat[columns])\n",
        "    imputer = IterativeImputer(BayesianRidge())\n",
        "    impute_data=imputer.fit_transform(data_cat[columns].values.reshape(-1, 1))\n",
        "    impute_data=impute_data.astype('int64')\n",
        "    impute_data = pd.DataFrame(impute_data)\n",
        "    impute_data =encoder.inverse_transform(impute_data.values.reshape(-1, 1))\n",
        "    data_cat[columns]=impute_data\n",
        "df2[cat_cols]=data_cat    "
      ]
    },
    {
      "cell_type": "code",
      "execution_count": 27,
      "metadata": {
        "colab": {
          "base_uri": "https://localhost:8080/"
        },
        "id": "z4gYvfa_dOgF",
        "outputId": "36d2edcf-3f3e-4404-a5cf-7d999440a210"
      },
      "outputs": [
        {
          "output_type": "execute_result",
          "data": {
            "text/plain": [
              "region          0\n",
              "manufacturer    0\n",
              "model           0\n",
              "condition       0\n",
              "cylinders       0\n",
              "fuel            0\n",
              "title_status    0\n",
              "transmission    0\n",
              "drive           0\n",
              "size            0\n",
              "type            0\n",
              "paint_color     0\n",
              "dtype: int64"
            ]
          },
          "metadata": {},
          "execution_count": 27
        }
      ],
      "source": [
        "#Missing values after filling\n",
        "df2.isnull().sum()[cat_cols]"
      ]
    },
    {
      "cell_type": "code",
      "execution_count": 28,
      "metadata": {
        "colab": {
          "base_uri": "https://localhost:8080/",
          "height": 344
        },
        "id": "RGEQPCPOdOgF",
        "outputId": "c19d4243-0f56-4107-bdc3-d87e8ec1a251"
      },
      "outputs": [
        {
          "output_type": "execute_result",
          "data": {
            "text/plain": [
              "<matplotlib.axes._subplots.AxesSubplot at 0x7f0d3be26350>"
            ]
          },
          "metadata": {},
          "execution_count": 28
        },
        {
          "output_type": "display_data",
          "data": {
            "text/plain": [
              "<Figure size 432x288 with 2 Axes>"
            ],
            "image/png": "[encoded data removed]"
          },
          "metadata": {
            "needs_background": "light"
          }
        }
      ],
      "source": [
        "#Heat map tp check numm values visually\n",
        "sns.heatmap(df2.isnull(),yticklabels=False,cbar=True,cmap='Accent')"
      ]
    },
    {
      "cell_type": "code",
      "execution_count": 29,
      "metadata": {
        "colab": {
          "base_uri": "https://localhost:8080/"
        },
        "id": "elNZ9HfmdOgG",
        "outputId": "51dea98d-a275-425c-9920-a889604ccb0e"
      },
      "outputs": [
        {
          "output_type": "execute_result",
          "data": {
            "text/plain": [
              "id              0\n",
              "region          0\n",
              "price           0\n",
              "year            0\n",
              "manufacturer    0\n",
              "model           0\n",
              "condition       0\n",
              "cylinders       0\n",
              "fuel            0\n",
              "odometer        0\n",
              "title_status    0\n",
              "transmission    0\n",
              "drive           0\n",
              "size            0\n",
              "type            0\n",
              "paint_color     0\n",
              "dtype: int64"
            ]
          },
          "metadata": {},
          "execution_count": 29
        }
      ],
      "source": [
        "#No null value in the dataset \n",
        "df2.isnull().sum()"
      ]
    },
    {
      "cell_type": "code",
      "execution_count": 30,
      "metadata": {
        "id": "3bXu8XCLdOgH"
      },
      "outputs": [],
      "source": [
        "df2.to_csv('/content/drive/MyDrive/Colab Notebooks/Application_II/practical_application_II_starter/data/silver/vehicles_silver.csv',index=False)"
      ]
    },
    {
      "cell_type": "code",
      "execution_count": 31,
      "metadata": {
        "id": "Jo_mk0UMdOgH"
      },
      "outputs": [],
      "source": [
        "df2=pd.read_csv('/content/drive/MyDrive/Colab Notebooks/Application_II/practical_application_II_starter/data/silver/vehicles_silver.csv')"
      ]
    },
    {
      "cell_type": "markdown",
      "metadata": {
        "id": "X43-X-8GdOgI"
      },
      "source": [
        "# 3) Outliers"
      ]
    },
    {
      "cell_type": "code",
      "execution_count": 32,
      "metadata": {
        "id": "4hwfU5eFdOgI"
      },
      "outputs": [],
      "source": [
        "from IPython.display import display,Latex\n",
        "outliers_condi=Latex(r\" $\\textbf{W𝑒 𝑐𝑎𝑛 𝑠𝑎𝑦 $𝑥_1$ or $x_2$ 𝑖𝑠 𝑜𝑢𝑡𝑙𝑖𝑒𝑟𝑠 if }\\\\ x_1 < Q1 - 1.5*IQR \\\\ or\\\\ x_2 > Q3+1.5*IQR $\")\n",
        "outliers_info=Latex(r\"$L_{p} = \\frac{p}{100}(n+1) = i_p.f_p \\\\ where \\,\\, i_p \\,\\, is \\,\\, integer \\,\\, part \\,\\, of \\,\\, L_p \\,\\, and \\,\\, f_p \\,\\, is \\,\\, fractional \\,\\, part \\,\\, of \\,\\, L_p \\\\ Q1 = Y_{25} = x_{i_p} + f_p*(x_{i_{p+1}}-x_{i_p}) \\\\ Q3 = Y_{75} = x_{i_p} + f_p*(x_{i_{p+1}}-x_{i_p}) \\\\ IQR = Q3-Q1 \\\\ x_1 = Q1 - 1.5*IQR \\,\\,and\\,\\, x_2 = Q3+1.5*IQR $\")"
      ]
    },
    {
      "cell_type": "code",
      "execution_count": 33,
      "metadata": {
        "colab": {
          "base_uri": "https://localhost:8080/",
          "height": 164
        },
        "id": "5sirvDFLdOgJ",
        "outputId": "e9d9ae3f-12ae-423d-f3d4-19be454a3454"
      },
      "outputs": [
        {
          "output_type": "display_data",
          "data": {
            "text/plain": [
              "<IPython.core.display.Latex object>"
            ],
            "text/latex": "$L_{p} = \\frac{p}{100}(n+1) = i_p.f_p \\\\ where \\,\\, i_p \\,\\, is \\,\\, integer \\,\\, part \\,\\, of \\,\\, L_p \\,\\, and \\,\\, f_p \\,\\, is \\,\\, fractional \\,\\, part \\,\\, of \\,\\, L_p \\\\ Q1 = Y_{25} = x_{i_p} + f_p*(x_{i_{p+1}}-x_{i_p}) \\\\ Q3 = Y_{75} = x_{i_p} + f_p*(x_{i_{p+1}}-x_{i_p}) \\\\ IQR = Q3-Q1 \\\\ x_1 = Q1 - 1.5*IQR \\,\\,and\\,\\, x_2 = Q3+1.5*IQR $"
          },
          "metadata": {}
        },
        {
          "output_type": "display_data",
          "data": {
            "text/plain": [
              "<IPython.core.display.Latex object>"
            ],
            "text/latex": " $\\textbf{W𝑒 𝑐𝑎𝑛 𝑠𝑎𝑦 $𝑥_1$ or $x_2$ 𝑖𝑠 𝑜𝑢𝑡𝑙𝑖𝑒𝑟𝑠 if }\\\\ x_1 < Q1 - 1.5*IQR \\\\ or\\\\ x_2 > Q3+1.5*IQR $"
          },
          "metadata": {}
        }
      ],
      "source": [
        "display(outliers_info)\n",
        "display(outliers_condi)"
      ]
    },
    {
      "cell_type": "code",
      "execution_count": 34,
      "metadata": {
        "id": "19Lv60J-dOgK"
      },
      "outputs": [],
      "source": [
        "#it will return the range of the variables and the values outside this range will be outliers\n",
        "def outliers(arr,col):\n",
        "    x=sorted(arr[col].values.ravel())\n",
        "    L_25=25/100*(len(x)+1) #L_p where p=25%\n",
        "    i_p=int(str(L_25).split(\".\")[0])\n",
        "    f_p=int(str(L_25).split(\".\")[1])\n",
        "    q1=x[i_p]+f_p*(x[i_p+1]-x[i_p])\n",
        "    \n",
        "    L_75=75/100*(len(x)+1) #L_p where p=75%\n",
        "    i_p=int(str(L_75).split(\".\")[0])\n",
        "    f_p=int(str(L_75).split(\".\")[1])\n",
        "    q3=x[i_p]+f_p*(x[i_p+1]-x[i_p])\n",
        "    \n",
        "    #q1,q3=(arr[col].quantile([0.25,0.75]))\n",
        "    \n",
        "    IQR=q3-q1\n",
        "    x1=q1-1.5*IQR\n",
        "    x2=q3+1.5*IQR\n",
        "    return (x1,x2)"
      ]
    },
    {
      "cell_type": "markdown",
      "metadata": {
        "id": "zc1iFArUdOgL"
      },
      "source": [
        "## 3.1) Price"
      ]
    },
    {
      "cell_type": "code",
      "execution_count": 35,
      "metadata": {
        "colab": {
          "base_uri": "https://localhost:8080/",
          "height": 281
        },
        "id": "ogzvliafdOgL",
        "outputId": "2284752d-0904-415f-8331-2ce5a799d979"
      },
      "outputs": [
        {
          "output_type": "display_data",
          "data": {
            "text/plain": [
              "<Figure size 432x288 with 1 Axes>"
            ],
            "image/png": "[encoded data removed]"
          },
          "metadata": {
            "needs_background": "light"
          }
        }
      ],
      "source": [
        "def min_max_price(df):\n",
        "    r=[]\n",
        "    q1,q3=(df['logprice'].quantile([0.25,0.75]))\n",
        "    r.append(q1-1.5*(q3-q1))\n",
        "    r.append(q3+1.5*(q3-q1))\n",
        "    return (r)\n",
        "df2['logprice'] = np.log(df2['price'])\n",
        "x=df2['logprice']\n",
        "price_range=list(range(0,int(max(df2['logprice']))+1))\n",
        "red_square = dict(markerfacecolor='g', marker='s')\n",
        "plt.boxplot(x, vert=False)\n",
        "plt.xticks(price_range)\n",
        "plt.text(min_max_price(df2)[0]-0.3,1.05,str(round(min_max_price(df2)[0],2)))\n",
        "plt.text(min_max_price(df2)[1]-0.5,1.05,str(round(min_max_price(df2)[1],2)))\n",
        "plt.title(\"Figure 1: Box Plot of Price\")\n",
        "plt.savefig('/content/drive/MyDrive/Colab Notebooks/Application_II/practical_application_II_starter/images/graph-boxplot-price.jpg')\n",
        "plt.show()"
      ]
    },
    {
      "cell_type": "markdown",
      "metadata": {
        "id": "HPkXAdmVdOgM"
      },
      "source": [
        "## 3.2) Odometer"
      ]
    },
    {
      "cell_type": "code",
      "execution_count": 36,
      "metadata": {
        "colab": {
          "base_uri": "https://localhost:8080/",
          "height": 294
        },
        "id": "6Kxyq6P4dOgN",
        "outputId": "767185be-32da-4049-e431-67baf08d7d7b"
      },
      "outputs": [
        {
          "output_type": "display_data",
          "data": {
            "text/plain": [
              "<Figure size 432x288 with 1 Axes>"
            ],
            "image/png": "[encoded data removed]"
          },
          "metadata": {
            "needs_background": "light"
          }
        }
      ],
      "source": [
        "fig, ax1 = plt.subplots()\n",
        "ax1.set_title('Figure 2: Box Plot of Odometer')\n",
        "ax1.boxplot(df2['odometer'], vert=False, flierprops=red_square)\n",
        "plt.savefig('/content/drive/MyDrive/Colab Notebooks/Application_II/practical_application_II_starter/images/graph-boxplot-odometer.jpg')\n",
        "plt.show()"
      ]
    },
    {
      "cell_type": "markdown",
      "metadata": {
        "id": "bJWxSJO1dOgN"
      },
      "source": [
        "## 3.3) Year"
      ]
    },
    {
      "cell_type": "code",
      "execution_count": 37,
      "metadata": {
        "colab": {
          "base_uri": "https://localhost:8080/",
          "height": 369
        },
        "id": "62wHY39mdOgO",
        "outputId": "8d2f6ffc-b63b-4b7a-91f6-9a69945c0f81"
      },
      "outputs": [
        {
          "output_type": "display_data",
          "data": {
            "text/plain": [
              "<Figure size 864x360 with 2 Axes>"
            ],
            "image/png": "[encoded data removed]"
          },
          "metadata": {
            "needs_background": "light"
          }
        }
      ],
      "source": [
        "fig,(ax1,ax2)=plt.subplots(ncols=2,figsize=(12,5))\n",
        "\n",
        "#ploting boxplot\n",
        "o1,o2=outliers(df2,'year')\n",
        "ax1.boxplot(sorted(df2['year']), vert=False, flierprops=red_square)\n",
        "ax1.set_xlabel(\"Years\")\n",
        "ax1.set_title(\"Figure 3: Box Plot of Year\")\n",
        "ax1.text(o1-8,1.05,str(round(o1,2)))\n",
        "\n",
        "#ploting histogram\n",
        "hist,bins=np.histogram(df2['year'])\n",
        "n, bins, patches = ax2.hist(x=df2['year'], bins=bins)\n",
        "ax2.set_xlabel(\"Years\")\n",
        "ax2.set_title(\"Figure 4: Histogram of Year\")\n",
        "for i in range(len(n)):\n",
        "    if(n[i]>2000):\n",
        "        ax2.text(bins[i],n[i]+3000,str(n[i]))\n",
        "\n",
        "plt.tight_layout()\n",
        "plt.savefig('/content/drive/MyDrive/Colab Notebooks/Application_II/practical_application_II_starter/images/graph-barplot-histogram-year.jpg',dpi=1200)\n",
        "plt.show()"
      ]
    },
    {
      "cell_type": "code",
      "execution_count": 38,
      "metadata": {
        "colab": {
          "base_uri": "https://localhost:8080/"
        },
        "id": "fzlmgiOCdOgP",
        "outputId": "c65801b1-313f-441b-ff88-f6db73ab8e70"
      },
      "outputs": [
        {
          "output_type": "stream",
          "name": "stdout",
          "text": [
            "IQR of logprice = 6.430098455893903 12.43705625322699\n",
            "IQR of odometer = -107802.5 282281.5\n",
            "IQR of year = 1994.5 2030.5\n"
          ]
        }
      ],
      "source": [
        "#removing outliers \n",
        "df_new=df2.copy()\n",
        "out=np.array(['logprice','odometer','year'])\n",
        "for col in out:\n",
        "    o1,o2=outliers(df_new,col)\n",
        "    df_new=df_new[(df_new[col]>=o1) & (df_new[col]<=o2)]\n",
        "    print('IQR of',col,'=',o1,o2)\n",
        "df_new=df_new[df_new['price']!=0]\n",
        "df_new.drop('logprice',axis=1,inplace=True)"
      ]
    },
    {
      "cell_type": "code",
      "execution_count": 39,
      "metadata": {
        "colab": {
          "base_uri": "https://localhost:8080/",
          "height": 206
        },
        "id": "iixWg6qqdOgP",
        "outputId": "e9565308-308b-4f88-ba64-762194118db7"
      },
      "outputs": [
        {
          "output_type": "execute_result",
          "data": {
            "text/plain": [
              "           id                  region  price    year manufacturer     model  \\\n",
              "0  7222695916                prescott   6000  2014.0     infiniti  g series   \n",
              "1  7218891961            fayetteville  11900  2014.0     infiniti  g series   \n",
              "2  7221797935            florida keys  21000  2014.0     infiniti  g series   \n",
              "3  7222270760  worcester / central MA   1500  2014.0     infiniti  g series   \n",
              "4  7210384030              greensboro   4900  2014.0     infiniti  g series   \n",
              "\n",
              "  condition    cylinders fuel      odometer title_status transmission drive  \\\n",
              "0      fair  5 cylinders  gas  96737.302119        clean    automatic   4wd   \n",
              "1      fair  5 cylinders  gas  96737.302119        clean    automatic   4wd   \n",
              "2      fair  5 cylinders  gas  96737.302119        clean    automatic   4wd   \n",
              "3      fair  5 cylinders  gas  96737.302119        clean    automatic   4wd   \n",
              "4      fair  5 cylinders  gas  96737.302119        clean    automatic   4wd   \n",
              "\n",
              "        size     type paint_color  \n",
              "0  full-size  offroad        grey  \n",
              "1  full-size  offroad        grey  \n",
              "2  full-size  offroad        grey  \n",
              "3  full-size  offroad        grey  \n",
              "4  full-size  offroad        grey  "
            ],
            "text/html": [
              "\n",
              "  <div id=\"df-2726c4b4-4f8a-484b-a4e7-770b07b98489\">\n",
              "    <div class=\"colab-df-container\">\n",
              "      <div>\n",
              "<style scoped>\n",
              "    .dataframe tbody tr th:only-of-type {\n",
              "        vertical-align: middle;\n",
              "    }\n",
              "\n",
              "    .dataframe tbody tr th {\n",
              "        vertical-align: top;\n",
              "    }\n",
              "\n",
              "    .dataframe thead th {\n",
              "        text-align: right;\n",
              "    }\n",
              "</style>\n",
              "<table border=\"1\" class=\"dataframe\">\n",
              "  <thead>\n",
              "    <tr style=\"text-align: right;\">\n",
              "      <th></th>\n",
              "      <th>id</th>\n",
              "      <th>region</th>\n",
              "      <th>price</th>\n",
              "      <th>year</th>\n",
              "      <th>manufacturer</th>\n",
              "      <th>model</th>\n",
              "      <th>condition</th>\n",
              "      <th>cylinders</th>\n",
              "      <th>fuel</th>\n",
              "      <th>odometer</th>\n",
              "      <th>title_status</th>\n",
              "      <th>transmission</th>\n",
              "      <th>drive</th>\n",
              "      <th>size</th>\n",
              "      <th>type</th>\n",
              "      <th>paint_color</th>\n",
              "    </tr>\n",
              "  </thead>\n",
              "  <tbody>\n",
              "    <tr>\n",
              "      <th>0</th>\n",
              "      <td>7222695916</td>\n",
              "      <td>prescott</td>\n",
              "      <td>6000</td>\n",
              "      <td>2014.0</td>\n",
              "      <td>infiniti</td>\n",
              "      <td>g series</td>\n",
              "      <td>fair</td>\n",
              "      <td>5 cylinders</td>\n",
              "      <td>gas</td>\n",
              "      <td>96737.302119</td>\n",
              "      <td>clean</td>\n",
              "      <td>automatic</td>\n",
              "      <td>4wd</td>\n",
              "      <td>full-size</td>\n",
              "      <td>offroad</td>\n",
              "      <td>grey</td>\n",
              "    </tr>\n",
              "    <tr>\n",
              "      <th>1</th>\n",
              "      <td>7218891961</td>\n",
              "      <td>fayetteville</td>\n",
              "      <td>11900</td>\n",
              "      <td>2014.0</td>\n",
              "      <td>infiniti</td>\n",
              "      <td>g series</td>\n",
              "      <td>fair</td>\n",
              "      <td>5 cylinders</td>\n",
              "      <td>gas</td>\n",
              "      <td>96737.302119</td>\n",
              "      <td>clean</td>\n",
              "      <td>automatic</td>\n",
              "      <td>4wd</td>\n",
              "      <td>full-size</td>\n",
              "      <td>offroad</td>\n",
              "      <td>grey</td>\n",
              "    </tr>\n",
              "    <tr>\n",
              "      <th>2</th>\n",
              "      <td>7221797935</td>\n",
              "      <td>florida keys</td>\n",
              "      <td>21000</td>\n",
              "      <td>2014.0</td>\n",
              "      <td>infiniti</td>\n",
              "      <td>g series</td>\n",
              "      <td>fair</td>\n",
              "      <td>5 cylinders</td>\n",
              "      <td>gas</td>\n",
              "      <td>96737.302119</td>\n",
              "      <td>clean</td>\n",
              "      <td>automatic</td>\n",
              "      <td>4wd</td>\n",
              "      <td>full-size</td>\n",
              "      <td>offroad</td>\n",
              "      <td>grey</td>\n",
              "    </tr>\n",
              "    <tr>\n",
              "      <th>3</th>\n",
              "      <td>7222270760</td>\n",
              "      <td>worcester / central MA</td>\n",
              "      <td>1500</td>\n",
              "      <td>2014.0</td>\n",
              "      <td>infiniti</td>\n",
              "      <td>g series</td>\n",
              "      <td>fair</td>\n",
              "      <td>5 cylinders</td>\n",
              "      <td>gas</td>\n",
              "      <td>96737.302119</td>\n",
              "      <td>clean</td>\n",
              "      <td>automatic</td>\n",
              "      <td>4wd</td>\n",
              "      <td>full-size</td>\n",
              "      <td>offroad</td>\n",
              "      <td>grey</td>\n",
              "    </tr>\n",
              "    <tr>\n",
              "      <th>4</th>\n",
              "      <td>7210384030</td>\n",
              "      <td>greensboro</td>\n",
              "      <td>4900</td>\n",
              "      <td>2014.0</td>\n",
              "      <td>infiniti</td>\n",
              "      <td>g series</td>\n",
              "      <td>fair</td>\n",
              "      <td>5 cylinders</td>\n",
              "      <td>gas</td>\n",
              "      <td>96737.302119</td>\n",
              "      <td>clean</td>\n",
              "      <td>automatic</td>\n",
              "      <td>4wd</td>\n",
              "      <td>full-size</td>\n",
              "      <td>offroad</td>\n",
              "      <td>grey</td>\n",
              "    </tr>\n",
              "  </tbody>\n",
              "</table>\n",
              "</div>\n",
              "      <button class=\"colab-df-convert\" onclick=\"convertToInteractive('df-2726c4b4-4f8a-484b-a4e7-770b07b98489')\"\n",
              "              title=\"Convert this dataframe to an interactive table.\"\n",
              "              style=\"display:none;\">\n",
              "        \n",
              "  <svg xmlns=\"http://www.w3.org/2000/svg\" height=\"24px\"viewBox=\"0 0 24 24\"\n",
              "       width=\"24px\">\n",
              "    <path d=\"M0 0h24v24H0V0z\" fill=\"none\"/>\n",
              "    <path d=\"M18.56 5.44l.94 2.06.94-2.06 2.06-.94-2.06-.94-.94-2.06-.94 2.06-2.06.94zm-11 1L8.5 8.5l.94-2.06 2.06-.94-2.06-.94L8.5 2.5l-.94 2.06-2.06.94zm10 10l.94 2.06.94-2.06 2.06-.94-2.06-.94-.94-2.06-.94 2.06-2.06.94z\"/><path d=\"M17.41 7.96l-1.37-1.37c-.4-.4-.92-.59-1.43-.59-.52 0-1.04.2-1.43.59L10.3 9.45l-7.72 7.72c-.78.78-.78 2.05 0 2.83L4 21.41c.39.39.9.59 1.41.59.51 0 1.02-.2 1.41-.59l7.78-7.78 2.81-2.81c.8-.78.8-2.07 0-2.86zM5.41 20L4 18.59l7.72-7.72 1.47 1.35L5.41 20z\"/>\n",
              "  </svg>\n",
              "      </button>\n",
              "      \n",
              "  <style>\n",
              "    .colab-df-container {\n",
              "      display:flex;\n",
              "      flex-wrap:wrap;\n",
              "      gap: 12px;\n",
              "    }\n",
              "\n",
              "    .colab-df-convert {\n",
              "      background-color: #E8F0FE;\n",
              "      border: none;\n",
              "      border-radius: 50%;\n",
              "      cursor: pointer;\n",
              "      display: none;\n",
              "      fill: #1967D2;\n",
              "      height: 32px;\n",
              "      padding: 0 0 0 0;\n",
              "      width: 32px;\n",
              "    }\n",
              "\n",
              "    .colab-df-convert:hover {\n",
              "      background-color: #E2EBFA;\n",
              "      box-shadow: 0px 1px 2px rgba(60, 64, 67, 0.3), 0px 1px 3px 1px rgba(60, 64, 67, 0.15);\n",
              "      fill: #174EA6;\n",
              "    }\n",
              "\n",
              "    [theme=dark] .colab-df-convert {\n",
              "      background-color: #3B4455;\n",
              "      fill: #D2E3FC;\n",
              "    }\n",
              "\n",
              "    [theme=dark] .colab-df-convert:hover {\n",
              "      background-color: #434B5C;\n",
              "      box-shadow: 0px 1px 3px 1px rgba(0, 0, 0, 0.15);\n",
              "      filter: drop-shadow(0px 1px 2px rgba(0, 0, 0, 0.3));\n",
              "      fill: #FFFFFF;\n",
              "    }\n",
              "  </style>\n",
              "\n",
              "      <script>\n",
              "        const buttonEl =\n",
              "          document.querySelector('#df-2726c4b4-4f8a-484b-a4e7-770b07b98489 button.colab-df-convert');\n",
              "        buttonEl.style.display =\n",
              "          google.colab.kernel.accessAllowed ? 'block' : 'none';\n",
              "\n",
              "        async function convertToInteractive(key) {\n",
              "          const element = document.querySelector('#df-2726c4b4-4f8a-484b-a4e7-770b07b98489');\n",
              "          const dataTable =\n",
              "            await google.colab.kernel.invokeFunction('convertToInteractive',\n",
              "                                                     [key], {});\n",
              "          if (!dataTable) return;\n",
              "\n",
              "          const docLinkHtml = 'Like what you see? Visit the ' +\n",
              "            '<a target=\"_blank\" href=https://colab.research.google.com/notebooks/data_table.ipynb>data table notebook</a>'\n",
              "            + ' to learn more about interactive tables.';\n",
              "          element.innerHTML = '';\n",
              "          dataTable['output_type'] = 'display_data';\n",
              "          await google.colab.output.renderOutput(dataTable, element);\n",
              "          const docLink = document.createElement('div');\n",
              "          docLink.innerHTML = docLinkHtml;\n",
              "          element.appendChild(docLink);\n",
              "        }\n",
              "      </script>\n",
              "    </div>\n",
              "  </div>\n",
              "  "
            ]
          },
          "metadata": {},
          "execution_count": 39
        }
      ],
      "source": [
        "df_new.head()"
      ]
    },
    {
      "cell_type": "code",
      "execution_count": 40,
      "metadata": {
        "colab": {
          "base_uri": "https://localhost:8080/"
        },
        "id": "WYYVN1MKdOgQ",
        "outputId": "b20a3450-13c7-4aae-975f-ed8565846e9a"
      },
      "outputs": [
        {
          "output_type": "stream",
          "name": "stdout",
          "text": [
            "Shape before process= (426880, 18)\n",
            "Shape After process= (364420, 16)\n",
            "Total 62460 rows and 2 cols removed\n"
          ]
        }
      ],
      "source": [
        "print(\"Shape before process=\",df.shape)\n",
        "print(\"Shape After process=\",df_new.shape)\n",
        "diff=df.shape[0]-df_new.shape[0]\n",
        "print(\"Total {} rows and {} cols removed\".format(diff,df.shape[1]-df_new.shape[1]))\n",
        "df_new.to_csv(\"/content/drive/MyDrive/Colab Notebooks/Application_II/practical_application_II_starter/data/gold/vehicles_gold.csv\",index=False)"
      ]
    }
  ],
  "metadata": {
    "kernelspec": {
      "display_name": "Python 3 (ipykernel)",
      "language": "python",
      "name": "python3"
    },
    "language_info": {
      "codemirror_mode": {
        "name": "ipython",
        "version": 3
      },
      "file_extension": ".py",
      "mimetype": "text/x-python",
      "name": "python",
      "nbconvert_exporter": "python",
      "pygments_lexer": "ipython3",
      "version": "3.9.7"
    },
    "colab": {
      "name": "1. data-preprocessing.ipynb",
      "provenance": [],
      "collapsed_sections": []
    }
  },
  "nbformat": 4,
  "nbformat_minor": 0
}